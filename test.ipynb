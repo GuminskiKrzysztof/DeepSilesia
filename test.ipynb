{
 "cells": [
  {
   "cell_type": "code",
   "execution_count": 1,
   "metadata": {},
   "outputs": [],
   "source": [
    "from qiskit import QuantumCircuit\n",
    "from qiskit.quantum_info import SparsePauliOp\n",
    "from qiskit.transpiler.preset_passmanagers import generate_preset_pass_manager\n",
    "from qiskit_ibm_runtime import EstimatorV2 as Estimator"
   ]
  },
  {
   "cell_type": "code",
   "execution_count": 2,
   "metadata": {},
   "outputs": [
    {
     "data": {
      "image/png": "[encoded data removed]",
      "text/plain": [
       "<Figure size 287.294x200.667 with 1 Axes>"
      ]
     },
     "execution_count": 2,
     "metadata": {},
     "output_type": "execute_result"
    }
   ],
   "source": [
    "# Create a new circuit with two qubits\n",
    "qc = QuantumCircuit(2)\n",
    " \n",
    "# Add a Hadamard gate to qubit 0\n",
    "qc.h(0)\n",
    " \n",
    "# Perform a controlled-X gate on qubit 1, controlled by qubit 0\n",
    "qc.cx(0, 1)\n",
    " \n",
    "# Return a drawing of the circuit using MatPlotLib (\"mpl\"). This is the\n",
    "# last line of the cell, so the drawing appears in the cell output.\n",
    "# Remove the \"mpl\" argument to get a text drawing.\n",
    "qc.draw(\"mpl\")"
   ]
  },
  {
   "cell_type": "code",
   "execution_count": 3,
   "metadata": {},
   "outputs": [],
   "source": [
    "# Set up six different observables.\n",
    "from qiskit.quantum_info import SparsePauliOp\n",
    " \n",
    "observables_labels = [\"IZ\", \"IX\", \"ZI\", \"XI\", \"ZZ\", \"XX\"]\n",
    "observables = [SparsePauliOp(label) for label in observables_labels]"
   ]
  },
  {
   "cell_type": "code",
   "execution_count": 22,
   "metadata": {},
   "outputs": [
    {
     "ename": "AttributeError",
     "evalue": "'QiskitRuntimeLocalService' object has no attribute 'get_backend'",
     "output_type": "error",
     "traceback": [
      "\u001b[1;31m---------------------------------------------------------------------------\u001b[0m",
      "\u001b[1;31mAttributeError\u001b[0m                            Traceback (most recent call last)",
      "Cell \u001b[1;32mIn[22], line 12\u001b[0m\n\u001b[0;32m     10\u001b[0m \u001b[38;5;66;03m# Using the local simulator\u001b[39;00m\n\u001b[0;32m     11\u001b[0m service \u001b[38;5;241m=\u001b[39m QiskitRuntimeService(channel\u001b[38;5;241m=\u001b[39m\u001b[38;5;124m\"\u001b[39m\u001b[38;5;124mlocal\u001b[39m\u001b[38;5;124m\"\u001b[39m)\n\u001b[1;32m---> 12\u001b[0m backend \u001b[38;5;241m=\u001b[39m \u001b[43mservice\u001b[49m\u001b[38;5;241;43m.\u001b[39;49m\u001b[43mget_backend\u001b[49m(\u001b[38;5;124m\"\u001b[39m\u001b[38;5;124mqasm_simulator\u001b[39m\u001b[38;5;124m\"\u001b[39m)\n\u001b[0;32m     14\u001b[0m \u001b[38;5;66;03m# Transpile the circuit with optimization\u001b[39;00m\n\u001b[0;32m     15\u001b[0m optimized_circuit \u001b[38;5;241m=\u001b[39m transpile(qc, backend\u001b[38;5;241m=\u001b[39mbackend, optimization_level\u001b[38;5;241m=\u001b[39m\u001b[38;5;241m1\u001b[39m)\n",
      "\u001b[1;31mAttributeError\u001b[0m: 'QiskitRuntimeLocalService' object has no attribute 'get_backend'"
     ]
    }
   ],
   "source": [
    "from qiskit import QuantumCircuit, transpile\n",
    "from qiskit_ibm_runtime import QiskitRuntimeService\n",
    "\n",
    "# Create a simple quantum circuit (for demonstration)\n",
    "qc = QuantumCircuit(2)\n",
    "qc.h(0)      # Apply Hadamard gate on qubit 0\n",
    "qc.cx(0, 1)  # Apply CNOT gate with control qubit 0 and target qubit 1\n",
    "qc.measure_all()  # Measure all qubits\n",
    "\n",
    "# Using the local simulator\n",
    "service = QiskitRuntimeService(channel=\"local\")\n",
    "backend = service.get_backend(\"qasm_simulator\")\n",
    "\n",
    "# Transpile the circuit with optimization\n",
    "optimized_circuit = transpile(qc, backend=backend, optimization_level=1)\n",
    "\n",
    "# Draw the optimized circuit\n",
    "optimized_circuit.draw('mpl', idle_wires=False)"
   ]
  },
  {
   "cell_type": "code",
   "execution_count": 10,
   "metadata": {},
   "outputs": [
    {
     "name": "stderr",
     "output_type": "stream",
     "text": [
      "d:\\HackYeah2024\\DeepSilesia\\env\\lib\\site-packages\\qiskit_ibm_runtime\\fake_provider\\fake_backend.py:468: RuntimeWarning: Aer not found, using qiskit.BasicSimulator and no noise.\n",
      "  warnings.warn(\n"
     ]
    }
   ],
   "source": [
    "# Use the following code instead if you want to run on a simulator:\n",
    " \n",
    "from qiskit_ibm_runtime.fake_provider import FakeAlmadenV2\n",
    "backend = FakeAlmadenV2()\n",
    "estimator = Estimator(backend)\n",
    " \n",
    "# Convert to an ISA circuit and layout-mapped observables.\n",
    " \n",
    "pm = generate_preset_pass_manager(backend=backend, optimization_level=1)\n",
    "isa_circuit = pm.run(qc)\n",
    "mapped_observables = [\n",
    "    observable.apply_layout(isa_circuit.layout) for observable in observables\n",
    "]\n",
    " \n",
    "job = estimator.run([(isa_circuit, mapped_observables)])\n",
    "result = job.result()\n",
    " \n",
    "# This is the result of the entire submission.  You submitted one Pub,\n",
    "# so this contains one inner result (and some metadata of its own).\n",
    " \n",
    "job_result = job.result()\n",
    " \n",
    "# This is the result from our single pub, which had five observables,\n",
    "# so contains information on all five.\n",
    " \n",
    "pub_result = job.result()[0]"
   ]
  },
  {
   "cell_type": "code",
   "execution_count": 11,
   "metadata": {},
   "outputs": [
    {
     "data": {
      "image/png": "[encoded data removed]",
      "text/plain": [
       "<Figure size 640x480 with 1 Axes>"
      ]
     },
     "metadata": {},
     "output_type": "display_data"
    }
   ],
   "source": [
    "# Plot the result\n",
    " \n",
    "from matplotlib import pyplot as plt\n",
    " \n",
    "values = pub_result.data.evs\n",
    " \n",
    "errors = pub_result.data.stds\n",
    " \n",
    "# plotting graph\n",
    "plt.plot(observables_labels, values, '-o')\n",
    "plt.xlabel('Observables')\n",
    "plt.ylabel('Values')\n",
    "plt.show()"
   ]
  }
 ],
 "metadata": {
  "kernelspec": {
   "display_name": "Python (env)",
   "language": "python",
   "name": "env"
  },
  "language_info": {
   "codemirror_mode": {
    "name": "ipython",
    "version": 3
   },
   "file_extension": ".py",
   "mimetype": "text/x-python",
   "name": "python",
   "nbconvert_exporter": "python",
   "pygments_lexer": "ipython3",
   "version": "3.9.19"
  }
 },
 "nbformat": 4,
 "nbformat_minor": 2
}
